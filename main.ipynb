{
 "cells": [
  {
   "cell_type": "code",
   "execution_count": null,
   "metadata": {},
   "outputs": [
    {
     "name": "stderr",
     "output_type": "stream",
     "text": [
      "/home/camilo/miniconda3/envs/ijcnn/lib/python3.10/site-packages/tqdm/auto.py:21: TqdmWarning: IProgress not found. Please update jupyter and ipywidgets. See https://ipywidgets.readthedocs.io/en/stable/user_install.html\n",
      "  from .autonotebook import tqdm as notebook_tqdm\n",
      "/home/camilo/miniconda3/envs/ijcnn/lib/python3.10/site-packages/tpot/builtins/__init__.py:36: UserWarning: Warning: optional dependency `torch` is not available. - skipping import of NN models.\n",
      "  warnings.warn(\"Warning: optional dependency `torch` is not available. - skipping import of NN models.\")\n"
     ]
    }
   ],
   "source": [
    "# 118 datasets for the meta-training\n",
    "# 27 datasets for the validation\n",
    "\n",
    "# update poac -> package it\n",
    "# install poac in requirements\n",
    "# copy and paste tpe-autoclust\n",
    "# run experiments\n"
   ]
  },
  {
   "cell_type": "code",
   "execution_count": 2,
   "metadata": {},
   "outputs": [
    {
     "name": "stdout",
     "output_type": "stream",
     "text": [
      "Converted: sizes2.arff -> datasets/validation_csv/sizes2.csv\n",
      "Converted: 3-spiral.arff -> datasets/validation_csv/3-spiral.csv\n",
      "Converted: aggregation.arff -> datasets/validation_csv/aggregation.csv\n",
      "Converted: compound.arff -> datasets/validation_csv/compound.csv\n",
      "Converted: cluto-t8-8k.arff -> datasets/validation_csv/cluto-t8-8k.csv\n",
      "Converted: pathbased.arff -> datasets/validation_csv/pathbased.csv\n",
      "Converted: sizes4.arff -> datasets/validation_csv/sizes4.csv\n",
      "Converted: cluto-t7-10k.arff -> datasets/validation_csv/cluto-t7-10k.csv\n",
      "Converted: R15.arff -> datasets/validation_csv/R15.csv\n",
      "Converted: jain.arff -> datasets/validation_csv/jain.csv\n"
     ]
    }
   ],
   "source": [
    "import os\n",
    "import pandas as pd\n",
    "from scipy.io import arff\n",
    "\n",
    "def is_classification_dataset(df):\n",
    "    \"\"\"Check if a DataFrame has a column indicating classification.\"\"\"\n",
    "    class_variations = [\"CLASS\", \"class\", \"Class\"]\n",
    "    return any(col in df.columns for col in class_variations)\n",
    "\n",
    "def convert_arff_to_csv(input_dir, output_dir):\n",
    "    \"\"\"Convert ARFF files to CSV for classification datasets.\"\"\"\n",
    "    if not os.path.exists(output_dir):\n",
    "        os.makedirs(output_dir)\n",
    "\n",
    "    for file_name in os.listdir(input_dir):\n",
    "        if file_name.endswith(\".arff\"):\n",
    "            input_path = os.path.join(input_dir, file_name)\n",
    "            output_path = os.path.join(output_dir, file_name.replace(\".arff\", \".csv\"))\n",
    "\n",
    "            try:\n",
    "                data, meta = arff.loadarff(input_path)\n",
    "                df = pd.DataFrame(data)\n",
    "\n",
    "                # Check if it's a classification dataset\n",
    "                if is_classification_dataset(df):\n",
    "                    # Decode byte strings if necessary\n",
    "                    for col in df.select_dtypes([\"object\"]):\n",
    "                        df[col] = df[col].apply(lambda x: x.decode('utf-8') if isinstance(x, bytes) else x)\n",
    "                    \n",
    "                    df.to_csv(output_path, index=False)\n",
    "                    print(f\"Converted: {file_name} -> {output_path}\")\n",
    "                else:\n",
    "                    print(f\"Skipped (not classification): {file_name}\")\n",
    "            except Exception as e:\n",
    "                print(f\"Error processing {file_name}: {e}\")\n",
    "\n",
    "# Directories for input and output\n",
    "input_directory = \"datasets/validation/synthetic/\"\n",
    "output_directory = \"datasets/validation_csv\"\n",
    "\n",
    "# Run the conversion\n",
    "convert_arff_to_csv(input_directory, output_directory)\n"
   ]
  },
  {
   "cell_type": "code",
   "execution_count": null,
   "metadata": {},
   "outputs": [],
   "source": []
  }
 ],
 "metadata": {
  "kernelspec": {
   "display_name": "ijcnn",
   "language": "python",
   "name": "python3"
  },
  "language_info": {
   "codemirror_mode": {
    "name": "ipython",
    "version": 3
   },
   "file_extension": ".py",
   "mimetype": "text/x-python",
   "name": "python",
   "nbconvert_exporter": "python",
   "pygments_lexer": "ipython3",
   "version": "3.10.16"
  }
 },
 "nbformat": 4,
 "nbformat_minor": 2
}
